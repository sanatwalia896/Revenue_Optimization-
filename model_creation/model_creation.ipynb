{
 "cells": [
  {
   "cell_type": "code",
   "execution_count": 48,
   "id": "eb5a7338",
   "metadata": {},
   "outputs": [],
   "source": [
    "from sklearn.model_selection import train_test_split\n",
    "from sklearn.ensemble import RandomForestRegressor\n",
    "import xgboost as xgb\n",
    "from sklearn.metrics import mean_squared_error, mean_absolute_error, r2_score\n",
    "from sklearn.linear_model import LinearRegression\n",
    "from sklearn.preprocessing import StandardScaler\n",
    "import pandas as pd\n",
    "import joblib\n",
    "import pickle\n",
    "import os \n",
    "import matplotlib.pyplot as plt "
   ]
  },
  {
   "cell_type": "code",
   "execution_count": 34,
   "id": "9b5fa33b",
   "metadata": {},
   "outputs": [],
   "source": [
    "df=pd.read_csv('/Users/sanatwalia/Desktop/Assignments_applications/Revenue_Optimization-/dataset/mobile_game_iap_dataset_cleaned.csv')"
   ]
  },
  {
   "cell_type": "code",
   "execution_count": 35,
   "id": "a5bf5fe1",
   "metadata": {},
   "outputs": [
    {
     "data": {
      "text/plain": [
       "Index(['Date of Purchase', 'Date of Install', 'User Segment', 'Item-Purchased',\n",
       "       'Session Time', 'Level Reached', 'Prior Purchases', 'Purchase Type',\n",
       "       'Promo Applied', 'Price (₹)', 'Days Installed Before Last Purchase'],\n",
       "      dtype='object')"
      ]
     },
     "execution_count": 35,
     "metadata": {},
     "output_type": "execute_result"
    }
   ],
   "source": [
    "df.columns"
   ]
  },
  {
   "cell_type": "code",
   "execution_count": 36,
   "id": "d16cf47a",
   "metadata": {},
   "outputs": [],
   "source": [
    "df[\"Price\"]=df['Price (₹)']"
   ]
  },
  {
   "cell_type": "code",
   "execution_count": 37,
   "id": "3566a84f",
   "metadata": {},
   "outputs": [],
   "source": [
    "df.drop(columns=['Price (₹)'], inplace=True)"
   ]
  },
  {
   "cell_type": "code",
   "execution_count": 38,
   "id": "43d0d819",
   "metadata": {},
   "outputs": [
    {
     "data": {
      "text/plain": [
       "Index(['Date of Purchase', 'Date of Install', 'User Segment', 'Item-Purchased',\n",
       "       'Session Time', 'Level Reached', 'Prior Purchases', 'Purchase Type',\n",
       "       'Promo Applied', 'Days Installed Before Last Purchase', 'Price'],\n",
       "      dtype='object')"
      ]
     },
     "execution_count": 38,
     "metadata": {},
     "output_type": "execute_result"
    }
   ],
   "source": [
    "df.columns"
   ]
  },
  {
   "cell_type": "code",
   "execution_count": 39,
   "id": "7a5e4ad2",
   "metadata": {},
   "outputs": [
    {
     "name": "stdout",
     "output_type": "stream",
     "text": [
      "Scaler Encoder  saved to /Users/sanatwalia/Desktop/Assignments_applications/Revenue_Optimization-/models/scaler.pkl\n"
     ]
    }
   ],
   "source": [
    "X=df.drop(columns=['Price','Date of Purchase','Date of Install'])\n",
    "y=df['Price']\n",
    "X_train, X_test, y_train, y_test = train_test_split(X, y, test_size=0.2, random_state=42)\n",
    "X_train.shape, X_test.shape, y_train.shape, y_test.shape\n",
    "# Standardize the features\n",
    "scaler = StandardScaler()\n",
    "X_train_scaled = scaler.fit_transform(X_train)\n",
    "X_test_scaled = scaler.transform(X_test)\n",
    "# Initialize the models\n",
    "# Save the scaler to a file\n",
    "# Ensure the directory exists\n",
    "save_dir = '/Users/sanatwalia/Desktop/Assignments_applications/Revenue_Optimization-/models'\n",
    "if not os.path.exists(save_dir):\n",
    "    os.makedirs(save_dir)\n",
    "\n",
    "# Save the label encoder as a .pkl file in the 'saved_models' directory\n",
    "pickle_file_path = os.path.join(save_dir, 'scaler.pkl')\n",
    "\n",
    "with open(pickle_file_path, 'wb') as f:\n",
    "    pickle.dump(scaler, f)\n",
    "\n",
    "print(f'Scaler Encoder  saved to {pickle_file_path}')"
   ]
  },
  {
   "cell_type": "code",
   "execution_count": 53,
   "id": "327f7b39",
   "metadata": {},
   "outputs": [
    {
     "data": {
      "text/plain": [
       "Index(['User Segment', 'Item-Purchased', 'Session Time', 'Level Reached',\n",
       "       'Prior Purchases', 'Purchase Type', 'Promo Applied',\n",
       "       'Days Installed Before Last Purchase'],\n",
       "      dtype='object')"
      ]
     },
     "execution_count": 53,
     "metadata": {},
     "output_type": "execute_result"
    }
   ],
   "source": [
    "X.columns"
   ]
  },
  {
   "cell_type": "code",
   "execution_count": 56,
   "id": "bb133213",
   "metadata": {},
   "outputs": [
    {
     "name": "stdout",
     "output_type": "stream",
     "text": [
      "random forest regressor: \n",
      "Mean Squared Error :  1667.5174233999999\n",
      "Mean Absolute Error :  30.57166\n",
      "r2 Score :  0.9735074735907104\n"
     ]
    }
   ],
   "source": [
    "# Random forest Regressor \n",
    "regr = RandomForestRegressor()\n",
    "regr.fit(X_train, y_train)\n",
    "rndf_pred = regr.predict(X_test)\n",
    "print(\"random forest regressor: \")\n",
    "print(\"Mean Squared Error : \", mean_squared_error(y_test, rndf_pred))\n",
    "print(\"Mean Absolute Error : \", mean_absolute_error(y_test, rndf_pred))\n",
    "print(\"r2 Score : \", r2_score(y_test, rndf_pred))"
   ]
  },
  {
   "cell_type": "code",
   "execution_count": null,
   "id": "f1d5a930",
   "metadata": {},
   "outputs": [],
   "source": []
  },
  {
   "cell_type": "code",
   "execution_count": 41,
   "id": "9671ab7a",
   "metadata": {},
   "outputs": [
    {
     "name": "stdout",
     "output_type": "stream",
     "text": [
      "linear regression: \n",
      "Mean Squared Error :  29366.639057291137\n",
      "Mean Absolute Error :  141.7975591912258\n",
      "r2 Score :  0.5334402808271377\n"
     ]
    }
   ],
   "source": [
    "# Linear Regressor \n",
    "linreg = LinearRegression()\n",
    "linreg.fit(X_train, y_train)\n",
    "linreg_pred = linreg.predict(X_test)\n",
    "print(\"linear regression: \")\n",
    "print(\"Mean Squared Error : \", mean_squared_error(y_test, linreg_pred))\n",
    "print(\"Mean Absolute Error : \", mean_absolute_error(y_test, linreg_pred))\n",
    "print(\"r2 Score : \", r2_score(y_test, linreg_pred))"
   ]
  },
  {
   "cell_type": "code",
   "execution_count": 54,
   "id": "c617ab8a",
   "metadata": {},
   "outputs": [
    {
     "name": "stdout",
     "output_type": "stream",
     "text": [
      "linear regression: \n",
      "Mean Squared Error :  1855.824570199605\n",
      "Mean Absolute Error :  32.15873341369629\n",
      "r2 Score :  0.970515787601471\n"
     ]
    }
   ],
   "source": [
    "model = xgb.XGBRegressor()\n",
    "model.fit(X_train, y_train)\n",
    "xgboost_pred = model.predict(X_test)\n",
    "print(\"linear regression: \")\n",
    "print(\"Mean Squared Error : \", mean_squared_error(y_test, xgboost_pred))\n",
    "print(\"Mean Absolute Error : \", mean_absolute_error(y_test, xgboost_pred))\n",
    "print(\"r2 Score : \", r2_score(y_test, xgboost_pred))"
   ]
  },
  {
   "cell_type": "code",
   "execution_count": 57,
   "id": "7ef17301",
   "metadata": {},
   "outputs": [
    {
     "name": "stdout",
     "output_type": "stream",
     "text": [
      "Type of regr: <class 'sklearn.ensemble._forest.RandomForestRegressor'>\n",
      "Model saved successfully to /Users/sanatwalia/Desktop/Assignments_applications/Revenue_Optimization-/models/random_forest_model.pkl\n"
     ]
    }
   ],
   "source": [
    "import pickle\n",
    "import os\n",
    "from sklearn.ensemble import RandomForestRegressor\n",
    "\n",
    "# Dummy check (assuming you have already trained regr)\n",
    "print(f\"Type of regr: {type(regr)}\")  # Should be RandomForestRegressor\n",
    "\n",
    "# Define save path\n",
    "save_dir = \"/Users/sanatwalia/Desktop/Assignments_applications/Revenue_Optimization-/models\"  # Or your desired folder\n",
    "os.makedirs(save_dir, exist_ok=True)  # Ensure directory exists\n",
    "model_path = os.path.join(save_dir, \"random_forest_model.pkl\")\n",
    "\n",
    "# Save model with pickle\n",
    "with open(model_path, \"wb\") as f:\n",
    "    pickle.dump(regr, f)\n",
    "\n",
    "print(f\"Model saved successfully to {model_path}\")\n",
    "\n"
   ]
  },
  {
   "cell_type": "code",
   "execution_count": 46,
   "id": "4d25c547",
   "metadata": {},
   "outputs": [
    {
     "name": "stdout",
     "output_type": "stream",
     "text": [
      "Optimising prices\n"
     ]
    }
   ],
   "source": [
    "print(\"Optimising prices\")"
   ]
  },
  {
   "cell_type": "code",
   "execution_count": 49,
   "id": "dcb26737",
   "metadata": {},
   "outputs": [
    {
     "name": "stdout",
     "output_type": "stream",
     "text": [
      "Revenue before optimization: 335441.64\n",
      "Revenue after optimization: 368985.8039999163\n"
     ]
    }
   ],
   "source": [
    "import numpy as np\n",
    "from scipy.optimize import minimize\n",
    "\n",
    "#revenue before optimization\n",
    "revenue_before = np.sum(rndf_pred)\n",
    "\n",
    "def objective_function(prices):\n",
    "    #non-linear regularization term for significant deviations where necessary\n",
    "    regularization_term = np.sum(np.abs(prices - rndf_pred) ** 1.2)\n",
    "    revenue = -np.sum(prices) + 0.05* regularization_term  #reducing weight of regularization so that optimzation is not non-significant\n",
    "    return revenue\n",
    "\n",
    "# Define constraints\n",
    "#for keeping prices within original range and that optimized revenue is greater than minimum revenue\n",
    "def constraints(prices, rndf_pred, min_revenue):\n",
    "    return np.concatenate([\n",
    "        prices - 0.8 * rndf_pred,\n",
    "        1.1* rndf_pred - prices,\n",
    "        [np.sum(prices) - min_revenue]\n",
    "    ])\n",
    "\n",
    "# initial price = predicted price\n",
    "initial_prices = rndf_pred\n",
    "\n",
    "# Minimum revenue constraint\n",
    "min_revenue = np.sum(rndf_pred) * 0.96\n",
    "\n",
    "#bounds\n",
    "bounds = [(0.8 * price, 1.1 * price) for price in rndf_pred]\n",
    "\n",
    "#final optimization\n",
    "result = minimize(objective_function, initial_prices, constraints={'type': 'ineq', 'fun': constraints, 'args': (rndf_pred, min_revenue)}, bounds=bounds)\n",
    "\n",
    "optimized_prices = result.x\n",
    "\n",
    "revenue_after = np.sum(optimized_prices)\n",
    "\n",
    "\n",
    "print(\"Revenue before optimization:\", revenue_before)\n",
    "print(\"Revenue after optimization:\", revenue_after)\n"
   ]
  },
  {
   "cell_type": "code",
   "execution_count": 50,
   "id": "32e14b08",
   "metadata": {},
   "outputs": [
    {
     "data": {
      "image/png": "[encoded data removed]",
      "text/plain": [
       "<Figure size 640x480 with 1 Axes>"
      ]
     },
     "metadata": {},
     "output_type": "display_data"
    }
   ],
   "source": [
    "\n",
    "revenue_values = [revenue_before, revenue_after]\n",
    "\n",
    "\n",
    "labels = ['Revenue Before Optimization', 'Revenue After Optimization']\n",
    "\n",
    "plt.bar(labels, revenue_values, color=['red', 'green'])\n",
    "plt.ylabel('Price')\n",
    "\n",
    "#formatting so that zeroes and commass are shown\n",
    "plt.gca().get_yaxis().set_major_formatter(plt.FuncFormatter(lambda x, loc: \"{:,}\".format(int(x))))"
   ]
  },
  {
   "cell_type": "code",
   "execution_count": 51,
   "id": "8d4d0f4a",
   "metadata": {},
   "outputs": [
    {
     "data": {
      "text/html": [
       "<div>\n",
       "<style scoped>\n",
       "    .dataframe tbody tr th:only-of-type {\n",
       "        vertical-align: middle;\n",
       "    }\n",
       "\n",
       "    .dataframe tbody tr th {\n",
       "        vertical-align: top;\n",
       "    }\n",
       "\n",
       "    .dataframe thead th {\n",
       "        text-align: right;\n",
       "    }\n",
       "</style>\n",
       "<table border=\"1\" class=\"dataframe\">\n",
       "  <thead>\n",
       "    <tr style=\"text-align: right;\">\n",
       "      <th></th>\n",
       "      <th>Predicted Prices</th>\n",
       "      <th>Optimized Prices</th>\n",
       "    </tr>\n",
       "  </thead>\n",
       "  <tbody>\n",
       "    <tr>\n",
       "      <th>0</th>\n",
       "      <td>221.19</td>\n",
       "      <td>243.309</td>\n",
       "    </tr>\n",
       "    <tr>\n",
       "      <th>1</th>\n",
       "      <td>244.87</td>\n",
       "      <td>269.357</td>\n",
       "    </tr>\n",
       "    <tr>\n",
       "      <th>2</th>\n",
       "      <td>858.26</td>\n",
       "      <td>944.086</td>\n",
       "    </tr>\n",
       "    <tr>\n",
       "      <th>3</th>\n",
       "      <td>610.28</td>\n",
       "      <td>671.308</td>\n",
       "    </tr>\n",
       "    <tr>\n",
       "      <th>4</th>\n",
       "      <td>149.22</td>\n",
       "      <td>164.142</td>\n",
       "    </tr>\n",
       "    <tr>\n",
       "      <th>...</th>\n",
       "      <td>...</td>\n",
       "      <td>...</td>\n",
       "    </tr>\n",
       "    <tr>\n",
       "      <th>995</th>\n",
       "      <td>86.22</td>\n",
       "      <td>94.842</td>\n",
       "    </tr>\n",
       "    <tr>\n",
       "      <th>996</th>\n",
       "      <td>182.06</td>\n",
       "      <td>200.266</td>\n",
       "    </tr>\n",
       "    <tr>\n",
       "      <th>997</th>\n",
       "      <td>594.25</td>\n",
       "      <td>653.675</td>\n",
       "    </tr>\n",
       "    <tr>\n",
       "      <th>998</th>\n",
       "      <td>495.46</td>\n",
       "      <td>545.006</td>\n",
       "    </tr>\n",
       "    <tr>\n",
       "      <th>999</th>\n",
       "      <td>248.47</td>\n",
       "      <td>273.317</td>\n",
       "    </tr>\n",
       "  </tbody>\n",
       "</table>\n",
       "<p>1000 rows × 2 columns</p>\n",
       "</div>"
      ],
      "text/plain": [
       "     Predicted Prices  Optimized Prices\n",
       "0              221.19           243.309\n",
       "1              244.87           269.357\n",
       "2              858.26           944.086\n",
       "3              610.28           671.308\n",
       "4              149.22           164.142\n",
       "..                ...               ...\n",
       "995             86.22            94.842\n",
       "996            182.06           200.266\n",
       "997            594.25           653.675\n",
       "998            495.46           545.006\n",
       "999            248.47           273.317\n",
       "\n",
       "[1000 rows x 2 columns]"
      ]
     },
     "execution_count": 51,
     "metadata": {},
     "output_type": "execute_result"
    }
   ],
   "source": [
    "prices_df = pd.DataFrame({\n",
    "    'Predicted Prices': rndf_pred,\n",
    "    'Optimized Prices': optimized_prices\n",
    "})\n",
    "prices_df"
   ]
  },
  {
   "cell_type": "code",
   "execution_count": 52,
   "id": "f8c29505",
   "metadata": {},
   "outputs": [
    {
     "data": {
      "text/plain": [
       "Index(['Date of Purchase', 'Date of Install', 'User Segment', 'Item-Purchased',\n",
       "       'Session Time', 'Level Reached', 'Prior Purchases', 'Purchase Type',\n",
       "       'Promo Applied', 'Days Installed Before Last Purchase', 'Price'],\n",
       "      dtype='object')"
      ]
     },
     "execution_count": 52,
     "metadata": {},
     "output_type": "execute_result"
    }
   ],
   "source": [
    "df.columns"
   ]
  },
  {
   "cell_type": "code",
   "execution_count": null,
   "id": "7eee06a2",
   "metadata": {},
   "outputs": [],
   "source": []
  }
 ],
 "metadata": {
  "kernelspec": {
   "display_name": "Python 3 (ipykernel)",
   "language": "python",
   "name": "python3"
  },
  "language_info": {
   "codemirror_mode": {
    "name": "ipython",
    "version": 3
   },
   "file_extension": ".py",
   "mimetype": "text/x-python",
   "name": "python",
   "nbconvert_exporter": "python",
   "pygments_lexer": "ipython3",
   "version": "3.11.7"
  }
 },
 "nbformat": 4,
 "nbformat_minor": 5
}
